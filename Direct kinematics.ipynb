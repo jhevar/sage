{
 "cells": [
  {
   "cell_type": "code",
   "execution_count": 4,
   "metadata": {},
   "outputs": [],
   "source": [
    "#coordenadas\n",
    "ar,ap,az=var('a_rho,a_psi,a_z')\n",
    "rt,Rb=var('r_t,R_t')\n",
    "l1,l2,l3=var('l_1,l_2,l_3')\n",
    "x,y,z=var('x,y,z')\n",
    "px=cos(2*pi/3)\n",
    "py=sin(2*pi/3)\n",
    "A1=rt*vector([1,0,0])\n",
    "A2=rt*vector([px,py,0])\n",
    "A3=rt*vector([px,-py,0])\n",
    "ABs=Rb*vector([1,0,0])\n",
    "BBs=Rb*vector([px,py,0])\n",
    "CBs=Rb*vector([px,-py,0])\n",
    "Ap=vector([x,y,z])"
   ]
  },
  {
   "cell_type": "code",
   "execution_count": 5,
   "metadata": {},
   "outputs": [],
   "source": [
    "c1=(Ap-A1)*(Ap-A1)-l1^2==0\n",
    "c2=(Ap-A2)*(Ap-A2)-l2^2==0\n",
    "c3=(Ap-A3)*(Ap-A3)-l3^2==0"
   ]
  },
  {
   "cell_type": "code",
   "execution_count": 6,
   "metadata": {},
   "outputs": [],
   "source": [
    "sln=solve([c1,c2,c3],x,y,z)"
   ]
  },
  {
   "cell_type": "code",
   "execution_count": 7,
   "metadata": {},
   "outputs": [],
   "source": [
    "snx=sln[1][0].rhs().subs(r_t==100)"
   ]
  },
  {
   "cell_type": "code",
   "execution_count": 8,
   "metadata": {},
   "outputs": [],
   "source": [
    "sny=sln[1][1].rhs().subs(r_t==100)"
   ]
  },
  {
   "cell_type": "code",
   "execution_count": 11,
   "metadata": {},
   "outputs": [],
   "source": [
    "snz=-expand(sln[1][2]).rhs().subs(r_t==100)"
   ]
  },
  {
   "cell_type": "code",
   "execution_count": 13,
   "metadata": {},
   "outputs": [],
   "source": [
    "#Matriz de rotacion\n",
    "#ux=1\n",
    "#uy=0\n",
    "#uz=0\n",
    "#va,ca,sa = var('va,ca,sa')\n",
    "dtr=pi/180\n",
    "alpha = var('alpha')\n",
    "ux,uy,uz=var('u_x,u_y,u_z')\n",
    "va=(1-cos(alpha))\n",
    "ca=cos(alpha)\n",
    "sa=sin(alpha)\n",
    "sx=ux^2*va+ca\n",
    "nx=ux*uy*va-uz*sa\n",
    "ax=ux*uz*va+uy*sa\n",
    "sy=ux*uy*va+uz*sa\n",
    "ny=uy^2*va+ca\n",
    "ay=uy*uz*va-ux*sa\n",
    "sz=uz*ux*va-uy*sa\n",
    "nz=uz*uy*va+ux*sa\n",
    "az=uz^2*va+ca\n",
    "sv=vector([sx, sy, sz])\n",
    "nv=vector([nx, ny, nz])\n",
    "av=vector([ax, ay, az])\n",
    "R=matrix([[sx, nx, ax],[sy, ny, ay] , [sz, nz, az]])"
   ]
  },
  {
   "cell_type": "code",
   "execution_count": 14,
   "metadata": {},
   "outputs": [
    {
     "data": {
      "text/plain": [
       "1.00000000000000"
      ]
     },
     "execution_count": 14,
     "metadata": {},
     "output_type": "execute_result"
    }
   ],
   "source": [
    "R1=R.subs(alpha=80*dtr, u_x=1, u_y=0, u_z=0)\n",
    "R2=R.subs(alpha=-6*dtr, u_x=0, u_y=0, u_z=1)\n",
    "vuz=vector([0,0,1])\n",
    "vtpa=R2*R1*vuz\n",
    "n(norm(vtpa))"
   ]
  },
  {
   "cell_type": "code",
   "execution_count": 15,
   "metadata": {},
   "outputs": [
    {
     "data": {
      "text/plain": [
       "1.00000000000000"
      ]
     },
     "execution_count": 15,
     "metadata": {},
     "output_type": "execute_result"
    }
   ],
   "source": [
    "R1=R.subs(alpha=41*dtr, u_x=0, u_y=1, u_z=0)\n",
    "R2=R.subs(alpha=23*dtr, u_x=0, u_y=0, u_z=1)\n",
    "vux=vector([1,0,0])\n",
    "vac=R2*R1*vux\n",
    "n(norm(vac))"
   ]
  },
  {
   "cell_type": "code",
   "execution_count": 16,
   "metadata": {},
   "outputs": [],
   "source": [
    "#Estimacion de posicion inicial mm\n",
    "vK=12;vL=11;vO=16;vP=1;vQ=5;vR=0.54 #medidas antropometricas\n",
    "H=1750 #altura promedio\n",
    "d_m=0.244*H #distancia rodilla al tobillo\n",
    "d_p=0.039*H #distancia tobillo a la planta del pie\n",
    "z_p=-(d_m+d_p) #posicion inicial z de la plataforma\n",
    "r_p=60 #radio de la plataforma\n",
    "ae=2*pi/3 #angulo del triangulo equilatero\n",
    "O=vector([0,0,-d_m/2]) #vector de referencia de la tibia\n",
    "#posicion inicial de la plataforma\n",
    "A0=vector([r_p,0,z_p]) \n",
    "B0=vector([r_p*cos(ae),r_p*sin(ae),z_p])\n",
    "C0=vector([r_p*cos(-ae),r_p*sin(-ae),z_p])\n",
    "PM0=(A0+B0+C0)/3 #punto medio del triangulo equilatero\n",
    "dot=sphere(size=3,color=\"blue\") #esfera que representa los puntos\n",
    "dO=dot.translate(O)\n",
    "dA0=dot.translate(A0)\n",
    "dB0=dot.translate(B0)\n",
    "dC0=dot.translate(C0)\n",
    "dPM0=dot.translate(PM0)\n",
    "ptf=polygon([A0,B0,C0],color='red') #plataforma"
   ]
  },
  {
   "cell_type": "code",
   "execution_count": 17,
   "metadata": {},
   "outputs": [
    {
     "data": {
      "text/html": [
       "\n",
       "<iframe srcdoc=\"\n",
       "<html>\n",
       "<head>\n",
       "  <style>\n",
       "    * {\n",
       "      margin: 0;\n",
       "      padding: 0;\n",
       "      overflow: hidden;\n",
       "    }\n",
       "    body, html {      \n",
       "      height: 100%;\n",
       "      width: 100%;\n",
       "    }\n",
       "  </style>\n",
       "  <script type=&quot;text/javascript&quot; src=&quot;/nbextensions/jsmol/JSmol.min.js&quot;></script>\n",
       "</head>\n",
       "<body>\n",
       "  <script type=&quot;text/javascript&quot;>\n",
       "    var script = [\n",
       "  'data &quot;model list&quot;',\n",
       "  '12',\n",
       "  'empty',\n",
       "  'Xx 0.734717458593 -0.19884009942 -3.0',\n",
       "  'Xx -0.657163237347 1.23204356375 -2.60231980116',\n",
       "  'Xx -1.05484343619 -1.23204356375 -3.0',\n",
       "  'Xx 0.0147944088048 0.916578520724 -1.37248988079',\n",
       "  'Xx -0.522584582428 -0.810246902753 -1.53451497191',\n",
       "  'Xx 1.05484343619 0.704185704488 -2.43473908533',\n",
       "  'Xx -0.730936022698 -0.0538327031137 -0.748322773177',\n",
       "  'Xx -0.0606429390871 0.19884009942 3.0',\n",
       "  'Xx -0.0606429390871 0.19884009942 -1.24523612262',\n",
       "  'Xx -0.53335640191 -0.19884009942 -1.70814174273',\n",
       "  'Xx -0.0606429390871 0.19884009942 -2.60231980116',\n",
       "  'Xx 5.5 5.5 5.5',\n",
       "  'end &quot;model list&quot;; show data',\n",
       "  'select *',\n",
       "  'wireframe off; spacefill off',\n",
       "  'set labelOffset 0 0',\n",
       "  'background [255,255,255]',\n",
       "  'spin OFF',\n",
       "  'moveto 0 -764 -346 -545 76.39',\n",
       "  'centerAt absolute {0 0 0}',\n",
       "  'zoom 100',\n",
       "  'frank OFF',\n",
       "  'set perspectivedepth ON',\n",
       "  'isosurface sphere_1 resolution 100 center {-0.259483038507 0.0 2.80115990058} sphere 0.059652029826',\n",
       "  'color isosurface  [0,0,255]',\n",
       "  'isosurface sphere_2 resolution 100 center {0.933557558013 0.0 -2.80115990058} sphere 0.059652029826',\n",
       "  'color isosurface  [0,0,255]',\n",
       "  'isosurface sphere_3 resolution 100 center {-0.856003336767 1.03320346433 -2.80115990058} sphere 0.059652029826',\n",
       "  'color isosurface  [0,0,255]',\n",
       "  'isosurface sphere_4 resolution 100 center {-0.856003336767 -1.03320346433 -2.80115990058} sphere 0.059652029826',\n",
       "  'color isosurface  [0,0,255]',\n",
       "  'isosurface sphere_5 resolution 100 center {-0.259483038507 0.0 -2.80115990058} sphere 0.059652029826',\n",
       "  'color isosurface  [0,0,255]',\n",
       "  'pmesh obj_6 inline &quot;3',\n",
       "  '0.933558 0 -2.80116',\n",
       "  '-0.856003 1.0332 -2.80116',\n",
       "  '-0.856003 -1.0332 -2.80116',\n",
       "  '1',\n",
       "  '4',\n",
       "  '0',\n",
       "  '1',\n",
       "  '2',\n",
       "  '0&quot;',\n",
       "  'color pmesh  [255,0,0]',\n",
       "  'draw line_7 diameter 1 curve {-0.259483038507 0.0 2.80115990058}  {-0.259483038507 0.0 -1.44407622204} ',\n",
       "  'color $line_7  [102,102,255]',\n",
       "  'draw line_8 diameter 1 curve {-0.184045690615 0.717738421304 -1.57132998021}  {-0.323744483008 -0.611406803333 -1.33567487249} ',\n",
       "  'color $line_8  [102,102,255]',\n",
       "  'draw line_9 diameter 1 curve {0.856003336767 0.505345605067 -2.63357918475}  {-0.929776122118 -0.252672802534 -0.947162872597} ',\n",
       "  'color $line_9  [102,102,255]',\n",
       "  'draw line_10 diameter 1 curve {-0.33451630249 0.0 -1.50930164331}  {0.933557558013 0.0 -2.80115990058} ',\n",
       "  'color $line_10  [102,102,255]',\n",
       "  'draw line_11 diameter 1 curve {-0.33451630249 0.0 -1.50930164331}  {-0.856003336767 1.03320346433 -2.80115990058} ',\n",
       "  'color $line_11  [102,102,255]',\n",
       "  'draw line_12 diameter 1 curve {-0.33451630249 0.0 -1.50930164331}  {-0.856003336767 -1.03320346433 -2.80115990058} ',\n",
       "  'color $line_12  [102,102,255]',\n",
       "  'isosurface sphere_13 resolution 100 center {-0.184045690615 0.717738421304 -1.57132998021} sphere 0.059652029826',\n",
       "  'color isosurface  [0,0,255]',\n",
       "  'isosurface sphere_14 resolution 100 center {-0.323744483008 -0.611406803333 -1.33567487249} sphere 0.059652029826',\n",
       "  'color isosurface  [0,0,255]',\n",
       "  'isosurface sphere_15 resolution 100 center {-0.259483038507 0.0 -1.44407622204} sphere 0.059652029826',\n",
       "  'color isosurface  [0,0,255]',\n",
       "  'isosurface sphere_16 resolution 100 center {-0.33451630249 0.0 -1.50930164331} sphere 0.059652029826',\n",
       "  'color isosurface  [0,0,255]',\n",
       "  'isosurface sphere_17 resolution 100 center {0.856003336767 0.505345605067 -2.63357918475} sphere 0.059652029826',\n",
       "  'color isosurface  [0,0,255]',\n",
       "  'isosurface sphere_18 resolution 100 center {-0.929776122118 -0.252672802534 -0.947162872597} sphere 0.059652029826',\n",
       "  'color isosurface  [0,0,255]',\n",
       "  'select atomno = 1',\n",
       "  'color atom  [0,0,0]',\n",
       "  'label &quot;A0&quot;',\n",
       "  'select atomno = 2',\n",
       "  'color atom  [0,0,0]',\n",
       "  'label &quot;B0&quot;',\n",
       "  'select atomno = 3',\n",
       "  'color atom  [0,0,0]',\n",
       "  'label &quot;C0&quot;',\n",
       "  'select atomno = 4',\n",
       "  'color atom  [0,0,0]',\n",
       "  'label &quot;M1&quot;',\n",
       "  'select atomno = 5',\n",
       "  'color atom  [0,0,0]',\n",
       "  'label &quot;M2&quot;',\n",
       "  'select atomno = 6',\n",
       "  'color atom  [0,0,0]',\n",
       "  'label &quot;N1&quot;',\n",
       "  'select atomno = 7',\n",
       "  'color atom  [0,0,0]',\n",
       "  'label &quot;N2&quot;',\n",
       "  'select atomno = 8',\n",
       "  'color atom  [0,0,0]',\n",
       "  'label &quot;O&quot;',\n",
       "  'select atomno = 9',\n",
       "  'color atom  [0,0,0]',\n",
       "  'label &quot;r1&quot;',\n",
       "  'select atomno = 10',\n",
       "  'color atom  [0,0,0]',\n",
       "  'label &quot;r2&quot;',\n",
       "  'select atomno = 11',\n",
       "  'color atom  [0,0,0]',\n",
       "  'label &quot;PM0&quot;',\n",
       "  'isosurface fullylit; pmesh o* fullylit; set antialiasdisplay on;',\n",
       "].join('\\n');;\n",
       "    var Info = {\n",
       "      width: '100%',\n",
       "      height: '500',\n",
       "      debug: false,\n",
       "      disableInitialConsole: true,   // very slow when used with inline mesh\n",
       "      color: '#3131ff',\n",
       "      addSelectionOptions: false,\n",
       "      use: 'HTML5',\n",
       "      j2sPath: '/nbextensions/jsmol/j2s',\n",
       "      script: script,\n",
       "    };\n",
       "    var jmolApplet0 = Jmol.getApplet('jmolApplet0', Info);\n",
       "  </script>\n",
       "</body>\n",
       "</html>\n",
       "\" \n",
       "        width=\"100%\"\n",
       "        height=\"500\"\n",
       "        style=\"border: 0;\">\n",
       "</iframe>\n"
      ],
      "text/plain": [
       "Graphics3d Object"
      ]
     },
     "metadata": {},
     "output_type": "display_data"
    }
   ],
   "source": [
    "r_1=vector([0,0,-d_m]) #vector proyectado en el plano sagital\n",
    "ap=0.039*H \n",
    "lp=0.152*H\n",
    "M_1=r_1-ap*vR*vtpa\n",
    "M_2=r_1+ap*(1-vR)*vtpa\n",
    "tht=41*dtr\n",
    "r_2=vQ*vector([-cos(tht),0,-sin(tht)])+r_1\n",
    "N_1=r_2+0.6*lp*vR*vac\n",
    "N_2=r_2-0.3*lp*vR*vac\n",
    "lrt=line([O,r_1])\n",
    "lm12=line([M_1,M_2])\n",
    "ln12=line([N_1,N_2])\n",
    "lrA=line([r_2,A0])\n",
    "lrB=line([r_2,B0])\n",
    "lrC=line([r_2,C0])\n",
    "dr1=dot.translate(r_1)\n",
    "dr2=dot.translate(r_2)\n",
    "dM1=dot.translate(M_1)\n",
    "dM2=dot.translate(M_2)\n",
    "dN1=dot.translate(N_1)\n",
    "dN2=dot.translate(N_2)\n",
    "lbl = text3d('A0',A0-vector([10,10,10]))\n",
    "lbl += text3d('B0',B0+vector([10,10,10]))\n",
    "lbl += text3d('C0',C0-vector([10,10,10]))\n",
    "lbl += text3d('M1',M_1+vector([10,10,10]))\n",
    "lbl += text3d('M2',M_2-vector([10,10,10]))\n",
    "lbl += text3d('N1',N_1+vector([10,10,10]))\n",
    "lbl += text3d('N2',N_2+vector([10,10,10]))\n",
    "lbl += text3d('O',O+vector([10,10,10]))\n",
    "lbl += text3d('r1',r_1+vector([10,10,10]))\n",
    "lbl += text3d('r2',r_2-vector([10,10,10]))\n",
    "lbl += text3d('PM0',PM0+vector([10,10,10]))\n",
    "gr=dO+dA0+dB0+dC0+dPM0+ptf+lrt+lm12+ln12+lrA+lrB+lrC+dM1+dM2+dr1+dr2+dN1+dN2 + lbl\n",
    "gr.show(aspect_ratio=1,frame=False)"
   ]
  },
  {
   "cell_type": "code",
   "execution_count": null,
   "metadata": {},
   "outputs": [],
   "source": []
  }
 ],
 "metadata": {
  "kernelspec": {
   "display_name": "SageMath 8.5",
   "language": "",
   "name": "sagemath"
  },
  "language_info": {
   "codemirror_mode": {
    "name": "ipython",
    "version": 2
   },
   "file_extension": ".py",
   "mimetype": "text/x-python",
   "name": "python",
   "nbconvert_exporter": "python",
   "pygments_lexer": "ipython2",
   "version": "2.7.15"
  }
 },
 "nbformat": 4,
 "nbformat_minor": 2
}
